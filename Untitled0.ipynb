{
  "nbformat": 4,
  "nbformat_minor": 0,
  "metadata": {
    "colab": {
      "provenance": [],
      "authorship_tag": "ABX9TyNrwZdhO3gtVxKRqv09UdEE",
      "include_colab_link": true
    },
    "kernelspec": {
      "name": "python3",
      "display_name": "Python 3"
    },
    "language_info": {
      "name": "python"
    }
  },
  "cells": [
    {
      "cell_type": "markdown",
      "metadata": {
        "id": "view-in-github",
        "colab_type": "text"
      },
      "source": [
        "<a href=\"https://colab.research.google.com/github/Abi24-glitch/GenAI-Hackathon-/blob/main/Untitled0.ipynb\" target=\"_parent\"><img src=\"https://colab.research.google.com/assets/colab-badge.svg\" alt=\"Open In Colab\"/></a>"
      ]
    },
    {
      "cell_type": "code",
      "execution_count": null,
      "metadata": {
        "colab": {
          "base_uri": "https://localhost:8080/"
        },
        "id": "AeZDrDLXMMWn",
        "outputId": "27dc570a-4cb3-4383-dac4-92a795875eb7"
      },
      "outputs": [
        {
          "output_type": "stream",
          "name": "stdout",
          "text": [
            "Data Quality Check:\n",
            "user_id       0\n",
            "product_id    0\n",
            "rating        0\n",
            "dtype: int64\n",
            "Data Quantity Check:\n",
            "(10, 3)\n",
            "\n",
            "User-Item Matrix:\n",
            "product_id  101  102  103  104  105  106  107  108\n",
            "user_id                                           \n",
            "1           5.0  4.0  3.0  0.0  0.0  0.0  0.0  0.0\n",
            "2           5.0  0.0  0.0  2.0  0.0  0.0  0.0  0.0\n",
            "3           0.0  4.0  0.0  0.0  5.0  0.0  0.0  0.0\n",
            "4           0.0  0.0  0.0  0.0  0.0  3.0  4.0  0.0\n",
            "5           0.0  0.0  0.0  0.0  0.0  0.0  0.0  5.0\n",
            "\n",
            "User Similarity Matrix:\n",
            "user_id         1         2         3    4    5\n",
            "user_id                                        \n",
            "1        1.000000  0.656532  0.353381  0.0  0.0\n",
            "2        0.656532  1.000000  0.000000  0.0  0.0\n",
            "3        0.353381  0.000000  1.000000  0.0  0.0\n",
            "4        0.000000  0.000000  0.000000  1.0  0.0\n",
            "5        0.000000  0.000000  0.000000  0.0  1.0\n",
            "\n",
            "Recommended Products for User 1:\n",
            "product_id\n",
            "105    5.0\n",
            "108    5.0\n",
            "107    4.0\n",
            "dtype: float64\n",
            "\n",
            "Mean Absolute Error: 0.6666666666666666\n",
            "Root Mean Squared Error: 0.816496580927726\n"
          ]
        },
        {
          "output_type": "stream",
          "name": "stderr",
          "text": [
            "/usr/local/lib/python3.10/dist-packages/sklearn/metrics/_regression.py:492: FutureWarning: 'squared' is deprecated in version 1.4 and will be removed in 1.6. To calculate the root mean squared error, use the function'root_mean_squared_error'.\n",
            "  warnings.warn(\n"
          ]
        }
      ],
      "source": [
        "import pandas as pd\n",
        "import numpy as np\n",
        "from sklearn.metrics.pairwise import cosine_similarity\n",
        "from sklearn.metrics import mean_absolute_error, mean_squared_error\n",
        "\n",
        "# Sample data loading (replace with your actual data source)\n",
        "data = {\n",
        "    'user_id': [1, 1, 1, 2, 2, 3, 3, 4, 4, 5],\n",
        "    'product_id': [101, 102, 103, 101, 104, 102, 105, 106, 107, 108],\n",
        "    'rating': [5, 4, 3, 5, 2, 4, 5, 3, 4, 5]\n",
        "}\n",
        "df = pd.DataFrame(data)\n",
        "\n",
        "# Data Quality Check\n",
        "print(\"Data Quality Check:\")\n",
        "print(df.isnull().sum())  # Check for null values\n",
        "\n",
        "# Data Quantity Check\n",
        "print(\"Data Quantity Check:\")\n",
        "print(df.shape)  # Number of rows and columns\n",
        "\n",
        "# Create user-item matrix\n",
        "user_item_matrix = df.pivot(index='user_id', columns='product_id', values='rating').fillna(0)\n",
        "print(\"\\nUser-Item Matrix:\")\n",
        "print(user_item_matrix)\n",
        "\n",
        "# Calculate cosine similarity between users\n",
        "user_similarity = cosine_similarity(user_item_matrix)\n",
        "user_similarity_df = pd.DataFrame(user_similarity, index=user_item_matrix.index, columns=user_item_matrix.index)\n",
        "\n",
        "print(\"\\nUser Similarity Matrix:\")\n",
        "print(user_similarity_df)\n",
        "\n",
        "# Function to get recommendations\n",
        "def get_recommendations(user_id, user_item_matrix, user_similarity_df, n_recommendations=3):\n",
        "    # Get similar users\n",
        "    similar_users = user_similarity_df[user_id].sort_values(ascending=False).index[1:]  # Exclude the user themselves\n",
        "\n",
        "    # Get products rated by similar users\n",
        "    recommendations = pd.Series(dtype=float)\n",
        "\n",
        "    for similar_user in similar_users:\n",
        "        # Get products rated by similar user\n",
        "        similar_user_ratings = user_item_matrix.loc[similar_user]\n",
        "        # Only consider products that the user hasn't rated yet\n",
        "        unrated_products = similar_user_ratings[similar_user_ratings > 0].index.difference(user_item_matrix.loc[user_id][user_item_matrix.loc[user_id] > 0].index)\n",
        "        recommendations = recommendations.add(similar_user_ratings[unrated_products], fill_value=0)\n",
        "\n",
        "    # Return top N recommendations\n",
        "    return recommendations.sort_values(ascending=False).head(n_recommendations)\n",
        "\n",
        "# Example: Get recommendations for user_id 1\n",
        "recommended_products = get_recommendations(1, user_item_matrix, user_similarity_df)\n",
        "print(\"\\nRecommended Products for User 1:\")\n",
        "print(recommended_products)\n",
        "\n",
        "# Function to evaluate recommendations\n",
        "def evaluate_recommendations(true_ratings, predicted_ratings):\n",
        "    mae = mean_absolute_error(true_ratings, predicted_ratings)\n",
        "    rmse = mean_squared_error(true_ratings, predicted_ratings, squared=False)\n",
        "    return mae, rmse\n",
        "\n",
        "# Example: Calculate MAE and RMSE for the recommendations (assuming true ratings are known)\n",
        "# Here, we will simulate true ratings for the recommended products\n",
        "true_ratings = [5, 4, 3]  # Example true ratings for the recommended products\n",
        "predicted_ratings = recommended_products.values  # Predicted ratings from the recommendation system\n",
        "\n",
        "mae, rmse = evaluate_recommendations(true_ratings, predicted_ratings)\n",
        "print(f\"\\nMean Absolute Error: {mae}\")\n",
        "print(f\"Root Mean Squared Error: {rmse}\")"
      ]
    }
  ]
}